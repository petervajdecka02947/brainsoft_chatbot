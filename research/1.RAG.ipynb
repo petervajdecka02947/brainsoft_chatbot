{
 "cells": [
  {
   "cell_type": "code",
   "execution_count": 253,
   "id": "e9370097-a055-41ca-bc61-71e1b1f44560",
   "metadata": {},
   "outputs": [],
   "source": [
    "#!pip install langchain\n",
    "#!pip install pinecone-client\n",
    "#!pip install openai\n",
    "#!pip install matplotlib\n",
    "#%pip install --upgrade tiktoken\n",
    "#%pip install --upgrade openai"
   ]
  },
  {
   "cell_type": "code",
   "execution_count": 254,
   "id": "ee64cc99-8f10-41b9-867c-ae18a7c91d5f",
   "metadata": {},
   "outputs": [],
   "source": [
    "# # Define your environment variables as a dictionary\n",
    "# env_variables = {\n",
    "#     'OPENAI_API_KEY': OPENAI_API_KEY,\n",
    "#     'PINECONE_API_KEY': PINECONE_API_KEY,\n",
    "#     'PINECONE_ENV': PINECONE_ENV,\n",
    "#     # Add more variables as needed\n",
    "# }\n",
    "\n",
    "# # Write the environment variables to .env file\n",
    "# with open('.env', 'w') as f:\n",
    "#     for key, value in env_variables.items():\n",
    "#         f.write(f'{key}={value}\\n')"
   ]
  },
  {
   "cell_type": "markdown",
   "id": "fbe8afa5-c374-4a3b-9519-29ad36e0afdd",
   "metadata": {},
   "source": [
    "# Load dependencies"
   ]
  },
  {
   "cell_type": "code",
   "execution_count": 255,
   "id": "1fffafcb-0a99-4333-95b6-c69c14b03e3d",
   "metadata": {},
   "outputs": [],
   "source": [
    "import pandas as pd\n",
    "import os\n",
    "import re\n",
    "import matplotlib.pyplot as plt\n",
    "from datetime import datetime\n",
    "import statistics\n",
    "import time\n",
    "\n",
    "from langchain.document_loaders import WebBaseLoader\n",
    "from langchain.vectorstores import Pinecone\n",
    "from langchain.embeddings.openai import OpenAIEmbeddings\n",
    "from langchain.chat_models import ChatOpenAI\n",
    "#from langchain.llms import OpenAI\n",
    "from langchain.memory import VectorStoreRetrieverMemory\n",
    "#from langchain.chains import ConversationChain\n",
    "from langchain.prompts import PromptTemplate\n",
    "from langchain.memory import ConversationBufferMemory\n",
    "from langchain.chains import ConversationalRetrievalChain\n",
    "from langchain.chains import RetrievalQAWithSourcesChain\n",
    "\n",
    "import pinecone"
   ]
  },
  {
   "cell_type": "code",
   "execution_count": 256,
   "id": "3344f6d0-f614-4334-a11c-3942bc4cb6a0",
   "metadata": {},
   "outputs": [],
   "source": [
    "OPENAI_API_KEY= \"\"\n",
    "PINECONE_API_KEY=\"\"\n",
    "PINECONE_ENV= \"gcp-starter\""
   ]
  },
  {
   "cell_type": "markdown",
   "id": "c8d6078a-92fa-4307-a5ea-d285863346f6",
   "metadata": {},
   "source": [
    "# Functions"
   ]
  },
  {
   "cell_type": "code",
   "execution_count": 257,
   "id": "d05663b4-fc7c-4ac3-ba4e-bbaabd1d2c5b",
   "metadata": {},
   "outputs": [],
   "source": [
    "def num_tokens_from_string(text):\n",
    "    \"\"\"Returns the number of tokens in a text string.\"\"\"\n",
    "    encoding = tokenizer\n",
    "    num_tokens = len(encoding.encode(text))\n",
    "    return num_tokens \n",
    "\n",
    "def calculate_statistics(data):\n",
    "    # Calculate basic statistics\n",
    "    try:\n",
    "        mode_value = statistics.mode(data)\n",
    "    except statistics.StatisticsError:\n",
    "        mode_value = None  # In case there's no unique mode\n",
    "\n",
    "    return {\n",
    "        'mean': statistics.mean(data),\n",
    "        'median': statistics.median(data),\n",
    "        'mode': mode_value,\n",
    "        'variance': statistics.variance(data),\n",
    "        'standard_deviation': statistics.stdev(data),\n",
    "        'min': min(data),\n",
    "        'max': max(data)\n",
    "    }\n"
   ]
  },
  {
   "cell_type": "markdown",
   "id": "f550e7c6-f28b-4492-b0e4-991f6f5da0e6",
   "metadata": {},
   "source": [
    "# Load documentation"
   ]
  },
  {
   "cell_type": "code",
   "execution_count": 258,
   "id": "73023d76-84f2-4403-9b3c-b1a0bd037930",
   "metadata": {},
   "outputs": [],
   "source": [
    "data_links = pd.read_csv('./data/ibm_links.csv') .links.to_list()"
   ]
  },
  {
   "cell_type": "code",
   "execution_count": 287,
   "id": "cffd4e6d-ccd8-4633-9778-67f5214fdcbd",
   "metadata": {},
   "outputs": [],
   "source": [
    "# Assuming data is a list of Document objects loaded by WebBaseLoader\n",
    "loader = WebBaseLoader(data_links)\n",
    "data = loader.load()\n",
    "\n",
    "# This dictionary will map document content to the shortest source link and the document itself\n",
    "content_to_document_map = {}\n",
    "\n",
    "for doc in data:\n",
    "    doc_content = doc.page_content\n",
    "    doc_source = doc.metadata['source']\n",
    "    \n",
    "    # Check if the document content is already in the map\n",
    "    # and if the current source URL is shorter than the one stored\n",
    "    if (doc_content not in content_to_document_map or \n",
    "            len(doc_source) < len(content_to_document_map[doc_content]['source'])):\n",
    "        content_to_document_map[doc_content] = {\n",
    "            'source': doc_source,\n",
    "            'document': doc  # Storing the document object directly\n",
    "        }\n",
    "\n",
    "# Now that we have our unique documents, we can create two lists\n",
    "unique_sources = [details['source'] for details in content_to_document_map.values()]\n",
    "unique_documents = [details['document'] for details in content_to_document_map.values()]"
   ]
  },
  {
   "cell_type": "code",
   "execution_count": 291,
   "id": "0f8527ee-4f96-4b90-a552-8642e4735525",
   "metadata": {},
   "outputs": [],
   "source": [
    "data = unique_documents"
   ]
  },
  {
   "cell_type": "code",
   "execution_count": 292,
   "id": "25b4f5c3-bdce-417e-a348-d9f4778dddc1",
   "metadata": {},
   "outputs": [
    {
     "data": {
      "text/plain": [
       "39"
      ]
     },
     "execution_count": 292,
     "metadata": {},
     "output_type": "execute_result"
    }
   ],
   "source": [
    "len(data)"
   ]
  },
  {
   "cell_type": "code",
   "execution_count": 294,
   "id": "78f32721-868c-4762-82dd-c23c8d282d06",
   "metadata": {},
   "outputs": [],
   "source": [
    "#data"
   ]
  },
  {
   "cell_type": "code",
   "execution_count": 295,
   "id": "ef77247f-3cf4-40ee-915d-6d253e03fb18",
   "metadata": {},
   "outputs": [
    {
     "data": {
      "text/plain": [
       "Document(page_content=\"\\n\\n\\n\\n\\n\\n\\nMetadata - IBM Generative AI Python SDK (Tech Preview)\\n\\n\\n\\n\\n\\n\\n\\n\\n\\nContents\\n\\n\\n\\n\\n\\nMenu\\n\\n\\n\\n\\n\\n\\n\\nExpand\\n\\n\\n\\n\\n\\nLight mode\\n\\n\\n\\n\\n\\n\\n\\n\\n\\n\\n\\n\\n\\nDark mode\\n\\n\\n\\n\\n\\n\\nAuto light/dark mode\\n\\n\\n\\n\\n\\n\\n\\n\\n\\n\\n\\n\\n\\n\\nHide navigation sidebar\\n\\n\\nHide table of contents sidebar\\n\\n\\n\\n\\n\\nToggle site navigation sidebar\\n\\n\\n\\n\\nIBM Generative AI Python SDK (Tech Preview)\\n\\n\\n\\n\\nToggle Light / Dark / Auto color theme\\n\\n\\n\\n\\n\\n\\nToggle table of contents sidebar\\n\\n\\n\\n\\n\\n\\n\\nIBM Generative AI Python SDK (Tech Preview)\\n\\n\\n\\n\\n\\n\\nAPIs:\\n\\nGENAIToggle navigation of GENAI\\nCredentials\\nMetadata\\nModel\\n\\n\\nServicesToggle navigation of Services\\nRequest Handler\\nService Interface\\n\\n\\nSchemasToggle navigation of Schemas\\nDescriptions\\nGenerate\\nHistory\\nResponses\\nToken\\nTunes\\nFiles\\n\\n\\nPromptsToggle navigation of Prompts\\nQuick Start\\nBasic Concepts\\nAnnexe\\nPrompts Pattern\\n\\n\\nExceptionsToggle navigation of Exceptions\\nGENAI Exceptions\\n\\n\\nRunning Custom Models\\n\\nExamples:\\n\\nSimple ExamplesToggle navigation of Simple Examples\\nAlice Bob QA\\nAlice Bob Talk\\nComplete My Code\\nCountry Capital QA\\nExplain my Code\\nGenerate with moderation\\nGrid search params\\nHistory\\nMany Greetings\\nModel utils\\nSelf reflection\\nStreaming\\nTokenize\\n\\n\\nAsync ExamplesToggle navigation of Async Examples\\nAsync Callback\\nAsync Greetings\\nAsync ordered responses\\nAsync tokenize\\n\\n\\nPromptsToggle navigation of Prompts\\nFrom all rows in a CSV\\nFrom a random row in a CSV\\nFrom a JSON\\nFrom a dataframe\\nInferring variables from CSV header\\n\\n\\nExtensionsToggle navigation of Extensions\\nHuggingFace agent\\nHuggingFace datasets\\nLangChain chains\\nLangChain generate\\nPandas\\n\\n\\n\\n\\n\\n\\n\\n\\n\\n\\n\\n\\n\\n\\n\\nBack to top\\n\\n\\n\\n\\nToggle Light / Dark / Auto color theme\\n\\n\\n\\n\\n\\n\\nToggle table of contents sidebar\\n\\n\\n\\n\\n\\nMetadata#\\n\\n\\nclass genai.metadata.Metadata(credentials: Credentials)#\\nBases: object\\n\\n\\nDEFAULT_MAX_PROMPTS = 5#\\n\\n\\n\\naccept_terms_of_use() → TermsOfUse#\\nAccepts the terms of use on GENAI.\\n\\nReturns:\\nTerms of Use Data\\n\\nReturn type:\\nTermsOfUse\\n\\n\\n\\n\\n\\nget_history(params: HistoryParams = HistoryParams(limit=None, offset=None, status=None, origin=None)) → HistoryResponse#\\n\\nThe requests endpoint provides the ability to retrieve past generation requestsand responses returned by the given models.\\nItems are returned in reverse chronological order.\\n\\n\\n\\nParameters:\\nparams (HistoryParams) – History parameters\\n\\nReturns:\\nThe History of requests and responses\\n\\nReturn type:\\nHistoryResponse\\n\\n\\n\\n\\n\\n\\n\\n\\n\\n\\n\\n\\nNext\\n\\nModel\\n\\n\\n\\n\\n\\n\\n\\nPrevious\\n\\nCredentials\\n\\n\\n\\n\\n\\n\\n                Copyright © 2023, IBM Research\\n            \\n            Made with Sphinx and @pradyunsg's\\n            \\n            Furo\\n\\n\\n\\n\\n\\n\\n\\n\\n\\n\\n            On this page\\n          \\n\\n\\n\\n\\nMetadata\\nMetadata\\nMetadata.DEFAULT_MAX_PROMPTS\\nMetadata.accept_terms_of_use()\\nMetadata.get_history()\\n\\n\\n\\n\\n\\n\\n\\n\\n\\n\\n\\n\\n\\n\\n\\n\", metadata={'source': 'https://ibm.github.io/ibm-generative-ai/rst_source/genai.metadata.html', 'title': 'Metadata - IBM Generative AI Python SDK (Tech Preview)', 'language': 'en'})"
      ]
     },
     "execution_count": 295,
     "metadata": {},
     "output_type": "execute_result"
    }
   ],
   "source": [
    "data[0]"
   ]
  },
  {
   "cell_type": "markdown",
   "id": "62be3e62-ef19-420b-96c8-299f145c66c9",
   "metadata": {},
   "source": [
    "# Check histogram of token_lengths (to check that we can make embeddings out of input texts)"
   ]
  },
  {
   "cell_type": "code",
   "execution_count": 296,
   "id": "21007980-93e1-4d26-aceb-6f82e0d3bbfa",
   "metadata": {},
   "outputs": [],
   "source": [
    "# https://github.com/openai/openai-cookbook/blob/main/examples/How_to_count_tokens_with_tiktoken.ipynb\n",
    "\n",
    "tokenizer  = tiktoken.get_encoding(\"cl100k_base\")"
   ]
  },
  {
   "cell_type": "code",
   "execution_count": 297,
   "id": "cc901e31-7f1b-420d-a1ff-2049399384d5",
   "metadata": {},
   "outputs": [],
   "source": [
    "txt = list(data[0])[0][1]"
   ]
  },
  {
   "cell_type": "code",
   "execution_count": 298,
   "id": "92ce4535-69fd-4d44-b4c0-d5a0dfd1b578",
   "metadata": {},
   "outputs": [
    {
     "data": {
      "text/plain": [
       "535"
      ]
     },
     "execution_count": 298,
     "metadata": {},
     "output_type": "execute_result"
    }
   ],
   "source": [
    "num_tokens_from_string(txt)"
   ]
  },
  {
   "cell_type": "code",
   "execution_count": 299,
   "id": "bf576cee-3c51-4ec8-9715-e9d3d954054e",
   "metadata": {},
   "outputs": [
    {
     "name": "stdout",
     "output_type": "stream",
     "text": [
      "Approximate token count: 381\n"
     ]
    }
   ],
   "source": [
    "links_length = []\n",
    "\n",
    "# Example usage:\n",
    "input_text = \"Calculate the OpenAI input length in tokens.\"\n",
    "print(\"Approximate token count:\", openai_approx_token_count(txt))\n",
    "for i in data:\n",
    "    len_txt = num_tokens_from_string(list(i)[0][1])\n",
    "    links_length.append(len_txt)"
   ]
  },
  {
   "cell_type": "code",
   "execution_count": 300,
   "id": "66630a40-ae26-40c5-b224-50098705580a",
   "metadata": {},
   "outputs": [
    {
     "data": {
      "image/png": "[encoded data removed]",
      "text/plain": [
       "<Figure size 640x480 with 1 Axes>"
      ]
     },
     "metadata": {},
     "output_type": "display_data"
    }
   ],
   "source": [
    "# Calculate bin width\n",
    "bin_width = 600  # You can change this value to adjust the width of the bins\n",
    "\n",
    "# Create bins with the specified width\n",
    "bins = range(min(links_length), max(links_length) + bin_width, bin_width)\n",
    "\n",
    "# Create histogram\n",
    "plt.hist(links_length, bins=bins, align='left', color='blue', edgecolor='black')\n",
    "\n",
    "# Adding titles and labels\n",
    "plt.title('Histogram of Document Lengths')\n",
    "plt.xlabel('No. Tokens')\n",
    "plt.ylabel('Frequency')\n",
    "\n",
    "# Show the plot\n",
    "plt.show()"
   ]
  },
  {
   "cell_type": "code",
   "execution_count": 301,
   "id": "8cda3737-5c3f-45a4-9f69-7d08c24002c5",
   "metadata": {},
   "outputs": [
    {
     "name": "stdout",
     "output_type": "stream",
     "text": [
      "Mean: 1764.2051282051282\n",
      "Median: 911\n",
      "Mode: 432\n",
      "Variance: 3939287.0620782725\n",
      "Standard_deviation: 1984.7637295351485\n",
      "Min: 68\n",
      "Max: 10154\n"
     ]
    }
   ],
   "source": [
    "# Example usage:\n",
    "stats = calculate_statistics(links_length)\n",
    "\n",
    "for stat, value in stats.items():\n",
    "    print(f\"{stat.capitalize()}: {value}\")"
   ]
  },
  {
   "cell_type": "code",
   "execution_count": 62,
   "id": "7ff0b4a7-3800-4b70-ab2b-1dfc6a235b2a",
   "metadata": {},
   "outputs": [],
   "source": [
    "#links_length"
   ]
  },
  {
   "cell_type": "markdown",
   "id": "1dc39207-1ae3-4154-8811-a1ab3386b9b8",
   "metadata": {},
   "source": [
    "### Because I use code to be transfered into embeddings, I split on hithest threshold in terms of tokens"
   ]
  },
  {
   "cell_type": "code",
   "execution_count": 302,
   "id": "c4417b87-551a-4561-be21-fe6c8b77267f",
   "metadata": {},
   "outputs": [],
   "source": [
    "from langchain.text_splitter import RecursiveCharacterTextSplitter\n",
    "\n",
    "text_splitter = RecursiveCharacterTextSplitter(\n",
    "    chunk_size = 5000, # 8150 max\n",
    "    chunk_overlap  = 300,\n",
    "    length_function = num_tokens_from_string,\n",
    "    add_start_index = True,)\n",
    "\n",
    "texts = text_splitter.split_documents(data)\n",
    "#texts = data"
   ]
  },
  {
   "cell_type": "code",
   "execution_count": 303,
   "id": "c0b8edbc-74ae-4166-8c65-c4730fe13fdc",
   "metadata": {},
   "outputs": [],
   "source": [
    "#print(list(texts[0])[0][1])"
   ]
  },
  {
   "cell_type": "code",
   "execution_count": 304,
   "id": "0a32ce7a-3d30-4cb7-97cd-a3ae118b20b9",
   "metadata": {},
   "outputs": [
    {
     "data": {
      "text/plain": [
       "42"
      ]
     },
     "execution_count": 304,
     "metadata": {},
     "output_type": "execute_result"
    }
   ],
   "source": [
    "len(texts)"
   ]
  },
  {
   "cell_type": "code",
   "execution_count": 305,
   "id": "adf68f81-80d4-4c92-a5df-a4b7dff707e6",
   "metadata": {},
   "outputs": [
    {
     "data": {
      "text/plain": [
       "Document(page_content=\"Metadata - IBM Generative AI Python SDK (Tech Preview)\\n\\n\\n\\n\\n\\n\\n\\n\\n\\nContents\\n\\n\\n\\n\\n\\nMenu\\n\\n\\n\\n\\n\\n\\n\\nExpand\\n\\n\\n\\n\\n\\nLight mode\\n\\n\\n\\n\\n\\n\\n\\n\\n\\n\\n\\n\\n\\nDark mode\\n\\n\\n\\n\\n\\n\\nAuto light/dark mode\\n\\n\\n\\n\\n\\n\\n\\n\\n\\n\\n\\n\\n\\n\\nHide navigation sidebar\\n\\n\\nHide table of contents sidebar\\n\\n\\n\\n\\n\\nToggle site navigation sidebar\\n\\n\\n\\n\\nIBM Generative AI Python SDK (Tech Preview)\\n\\n\\n\\n\\nToggle Light / Dark / Auto color theme\\n\\n\\n\\n\\n\\n\\nToggle table of contents sidebar\\n\\n\\n\\n\\n\\n\\n\\nIBM Generative AI Python SDK (Tech Preview)\\n\\n\\n\\n\\n\\n\\nAPIs:\\n\\nGENAIToggle navigation of GENAI\\nCredentials\\nMetadata\\nModel\\n\\n\\nServicesToggle navigation of Services\\nRequest Handler\\nService Interface\\n\\n\\nSchemasToggle navigation of Schemas\\nDescriptions\\nGenerate\\nHistory\\nResponses\\nToken\\nTunes\\nFiles\\n\\n\\nPromptsToggle navigation of Prompts\\nQuick Start\\nBasic Concepts\\nAnnexe\\nPrompts Pattern\\n\\n\\nExceptionsToggle navigation of Exceptions\\nGENAI Exceptions\\n\\n\\nRunning Custom Models\\n\\nExamples:\\n\\nSimple ExamplesToggle navigation of Simple Examples\\nAlice Bob QA\\nAlice Bob Talk\\nComplete My Code\\nCountry Capital QA\\nExplain my Code\\nGenerate with moderation\\nGrid search params\\nHistory\\nMany Greetings\\nModel utils\\nSelf reflection\\nStreaming\\nTokenize\\n\\n\\nAsync ExamplesToggle navigation of Async Examples\\nAsync Callback\\nAsync Greetings\\nAsync ordered responses\\nAsync tokenize\\n\\n\\nPromptsToggle navigation of Prompts\\nFrom all rows in a CSV\\nFrom a random row in a CSV\\nFrom a JSON\\nFrom a dataframe\\nInferring variables from CSV header\\n\\n\\nExtensionsToggle navigation of Extensions\\nHuggingFace agent\\nHuggingFace datasets\\nLangChain chains\\nLangChain generate\\nPandas\\n\\n\\n\\n\\n\\n\\n\\n\\n\\n\\n\\n\\n\\n\\n\\nBack to top\\n\\n\\n\\n\\nToggle Light / Dark / Auto color theme\\n\\n\\n\\n\\n\\n\\nToggle table of contents sidebar\\n\\n\\n\\n\\n\\nMetadata#\\n\\n\\nclass genai.metadata.Metadata(credentials: Credentials)#\\nBases: object\\n\\n\\nDEFAULT_MAX_PROMPTS = 5#\\n\\n\\n\\naccept_terms_of_use() → TermsOfUse#\\nAccepts the terms of use on GENAI.\\n\\nReturns:\\nTerms of Use Data\\n\\nReturn type:\\nTermsOfUse\\n\\n\\n\\n\\n\\nget_history(params: HistoryParams = HistoryParams(limit=None, offset=None, status=None, origin=None)) → HistoryResponse#\\n\\nThe requests endpoint provides the ability to retrieve past generation requestsand responses returned by the given models.\\nItems are returned in reverse chronological order.\\n\\n\\n\\nParameters:\\nparams (HistoryParams) – History parameters\\n\\nReturns:\\nThe History of requests and responses\\n\\nReturn type:\\nHistoryResponse\\n\\n\\n\\n\\n\\n\\n\\n\\n\\n\\n\\n\\nNext\\n\\nModel\\n\\n\\n\\n\\n\\n\\n\\nPrevious\\n\\nCredentials\\n\\n\\n\\n\\n\\n\\n                Copyright © 2023, IBM Research\\n            \\n            Made with Sphinx and @pradyunsg's\\n            \\n            Furo\\n\\n\\n\\n\\n\\n\\n\\n\\n\\n\\n            On this page\\n          \\n\\n\\n\\n\\nMetadata\\nMetadata\\nMetadata.DEFAULT_MAX_PROMPTS\\nMetadata.accept_terms_of_use()\\nMetadata.get_history()\", metadata={'source': 'https://ibm.github.io/ibm-generative-ai/rst_source/genai.metadata.html', 'title': 'Metadata - IBM Generative AI Python SDK (Tech Preview)', 'language': 'en', 'start_index': 7})"
      ]
     },
     "execution_count": 305,
     "metadata": {},
     "output_type": "execute_result"
    }
   ],
   "source": [
    "texts[0]"
   ]
  },
  {
   "cell_type": "markdown",
   "id": "5b2bbcd0-9c2f-4bcb-944b-a303d646a4ab",
   "metadata": {},
   "source": [
    "# Prepare pinecone vector database"
   ]
  },
  {
   "cell_type": "code",
   "execution_count": 306,
   "id": "a53163d1-fd0e-46dd-85d3-ef16c31356aa",
   "metadata": {},
   "outputs": [],
   "source": [
    "pinecone.init(\n",
    "            api_key= PINECONE_API_KEY, # set api_key = 'yourapikey'\n",
    "            environment= PINECONE_ENV\n",
    ")"
   ]
  },
  {
   "cell_type": "code",
   "execution_count": 307,
   "id": "910975df-e1e0-4381-9039-b2cb08217789",
   "metadata": {},
   "outputs": [
    {
     "data": {
      "text/plain": [
       "['brainsoft']"
      ]
     },
     "execution_count": 307,
     "metadata": {},
     "output_type": "execute_result"
    }
   ],
   "source": [
    "pinecone.list_indexes()"
   ]
  },
  {
   "cell_type": "code",
   "execution_count": 309,
   "id": "d9159ec4-00ed-4c76-9a58-6b66f9593255",
   "metadata": {},
   "outputs": [],
   "source": [
    "index_n = \"brainsoft\"\n",
    "if index_n not in pinecone.list_indexes():\n",
    "    pinecone.create_index(name=index_n, dimension=1536, metric='cosine')\n",
    "\n",
    "index_name = pinecone.Index(index_n)"
   ]
  },
  {
   "cell_type": "markdown",
   "id": "e470f1f4-07a3-4569-94e8-65c7d2d3c31d",
   "metadata": {},
   "source": [
    "# Initialize OpenAI API"
   ]
  },
  {
   "cell_type": "code",
   "execution_count": 310,
   "id": "1dc36ee0-f1cd-432c-a8ba-04ceabc85297",
   "metadata": {},
   "outputs": [],
   "source": [
    "embeddings_model = OpenAIEmbeddings(model = 'text-embedding-ada-002', # 8191 tokens\n",
    "                                    openai_api_key=OPENAI_API_KEY) # set openai_api_key = 'your_openai_api_key'"
   ]
  },
  {
   "cell_type": "code",
   "execution_count": 311,
   "id": "81197911-ae59-4743-a6da-dea3e71ad799",
   "metadata": {},
   "outputs": [
    {
     "data": {
      "text/plain": [
       "'Hello! How can I assist you today?'"
      ]
     },
     "execution_count": 311,
     "metadata": {},
     "output_type": "execute_result"
    }
   ],
   "source": [
    "llm = ChatOpenAI(openai_api_key=OPENAI_API_KEY, \n",
    "                 model_name='gpt-3.5-turbo-16k',\n",
    "                 #max_tokens = 10000,\n",
    "                 temperature=0) # gpt-3.5-turbo-16k 'gpt-3.5-turbo'\n",
    "llm.predict(\"Hello world!\")"
   ]
  },
  {
   "cell_type": "markdown",
   "id": "79708737-3c9d-4df9-acc5-df6dea4fcd29",
   "metadata": {},
   "source": [
    "# Create embeddings from texts and save it to vector database"
   ]
  },
  {
   "cell_type": "code",
   "execution_count": 312,
   "id": "567b9c07-0f54-4aed-be27-6e17842fd013",
   "metadata": {},
   "outputs": [
    {
     "name": "stdout",
     "output_type": "stream",
     "text": [
      "The code block took 2.0808331966400146 seconds to run.\n"
     ]
    }
   ],
   "source": [
    "start_time = time.time()\n",
    "\n",
    "vectordb = Pinecone.from_documents(texts, embeddings_model, index_name=index_n)\n",
    "\n",
    "end_time = time.time()\n",
    "elapsed_time = end_time - start_time\n",
    "print(f\"The code block took {elapsed_time} seconds to run.\")"
   ]
  },
  {
   "cell_type": "markdown",
   "id": "7bb2b98f-9ef7-413d-a131-de13495add7a",
   "metadata": {},
   "source": [
    "# Create chain"
   ]
  },
  {
   "cell_type": "code",
   "execution_count": 351,
   "id": "068b77c7-c2bd-4625-a0e1-675842675c52",
   "metadata": {},
   "outputs": [],
   "source": [
    "# Define a template message\n",
    "# Always say \"thanks for asking!\" at the end of the answer. \n",
    "# If you don't know the answer, just say that you don't know, don't try to make up an answer.\n",
    "# Answer with python script only!\n",
    "#Use three sentences maximum and keep the answer as concise as possible.\n",
    "template = \"\"\"Use the following pieces of context to answer the question at the end.  \n",
    "{context}\n",
    "Question: {question}\n",
    "Helpful Answer:\"\"\"\n",
    "\n",
    "QA_CHAIN_PROMPT = PromptTemplate.from_template(template)"
   ]
  },
  {
   "cell_type": "code",
   "execution_count": 352,
   "id": "2d9a2b35-620e-4ed7-8cc8-061a7c660ccf",
   "metadata": {},
   "outputs": [],
   "source": [
    "retriever = vectordb.as_retriever(search_kwargs={'k': 1})\n",
    "memory = ConversationBufferMemory(memory_key=\"chat_history\",input_key='question', output_key='answer', return_messages= True)\n",
    "#memory = VectorStoreRetrieverMemory(retriever=retriever, input_key='question', output_key='answer', return_messages= True)\n",
    "\n",
    "chain = ConversationalRetrievalChain.from_llm(llm, \n",
    "                                              retriever = retriever, \n",
    "                                              combine_docs_chain_kwargs={\"prompt\": QA_CHAIN_PROMPT},\n",
    "                                              return_source_documents=True, \n",
    "                                              memory = memory) # chain chain verbose=True"
   ]
  },
  {
   "cell_type": "code",
   "execution_count": 353,
   "id": "0de3bcdf-c8dc-46f1-85d6-771afd46aaad",
   "metadata": {},
   "outputs": [],
   "source": [
    "# Generation"
   ]
  },
  {
   "cell_type": "code",
   "execution_count": 354,
   "id": "056ada09-f605-4735-953a-0a751e510525",
   "metadata": {},
   "outputs": [
    {
     "name": "stdout",
     "output_type": "stream",
     "text": [
      "The example of Alice Bob QA in Python can be found in the code snippet labeled \"Alice Bob QA\" in the provided context.\n"
     ]
    }
   ],
   "source": [
    "chat_history = []\n",
    "query = 'Show an examples of Alice Bob QA in python ?'\n",
    "result = chain({\"question\": query, \"chat_history\": chat_history}) # \"chat_history\": chat_history\n",
    "print(result[\"answer\"])"
   ]
  },
  {
   "cell_type": "code",
   "execution_count": 355,
   "id": "a36b0e8c-1f5a-4b6b-9fb0-2e208380a94e",
   "metadata": {},
   "outputs": [
    {
     "data": {
      "text/plain": [
       "1"
      ]
     },
     "execution_count": 355,
     "metadata": {},
     "output_type": "execute_result"
    }
   ],
   "source": [
    "len(result[\"source_documents\"])"
   ]
  },
  {
   "cell_type": "code",
   "execution_count": 356,
   "id": "72d3f6d2-1718-4c42-b5c3-59712856f42a",
   "metadata": {},
   "outputs": [
    {
     "name": "stdout",
     "output_type": "stream",
     "text": [
      "Sure! Here's a Python script for Alice Bob QA:\n",
      "\n",
      "```python\n",
      "import os\n",
      "import time\n",
      "\n",
      "from dotenv import load_dotenv\n",
      "\n",
      "from genai.credentials import Credentials\n",
      "from genai.model import Model\n",
      "from genai.schemas import GenerateParams\n",
      "\n",
      "# make sure you have a .env file under genai root with\n",
      "# GENAI_KEY=<your-genai-key>\n",
      "# GENAI_API=<genai-api-endpoint>\n",
      "load_dotenv()\n",
      "api_key = os.getenv(\"GENAI_KEY\", None)\n",
      "api_endpoint = os.getenv(\"GENAI_API\", None)\n",
      "\n",
      "print(\"\\n------------- Example (Model QA)-------------\\n\")\n",
      "\n",
      "max_cycles = 20\n",
      "\n",
      "bob_params = GenerateParams(\n",
      "    decoding_method=\"sample\",\n",
      "    max_new_tokens=25,\n",
      "    min_new_tokens=1,\n",
      "    stream=False,\n",
      "    temperature=1,\n",
      "    top_k=50,\n",
      "    top_p=1,\n",
      ")\n",
      "\n",
      "alice_params = GenerateParams(\n",
      "    decoding_method=\"sample\",\n",
      "    max_new_tokens=45,\n",
      "    min_new_tokens=1,\n",
      "    stream=False,\n",
      "    temperature=0.05,\n",
      "    top_k=50,\n",
      "    top_p=1,\n",
      ")\n",
      "\n",
      "creds = Credentials(api_key, api_endpoint)\n",
      "bob_model = Model(\"google/flan-ul2\", params=bob_params, credentials=creds)\n",
      "alice_model = Model(\"google/flan-t5-xxl\", params=alice_params, credentials=creds)\n",
      "\n",
      "alice_q = \"What is 1 + 1?\"\n",
      "print(f\"[Alice][Q] {alice_q}\")\n",
      "\n",
      "for x in range(max_cycles):\n",
      "    bob_response = bob_model.generate([alice_q])\n",
      "    bob_a = bob_response[0].generated_text\n",
      "    print(f\"[Bob][A] {bob_a}\")\n",
      "\n",
      "    bob_q = \"What is \" + bob_a + \" + \" + bob_a + \"?\"\n",
      "    print(f\"[Bob][Q] {bob_q}\")\n",
      "\n",
      "    alice_response = alice_model.generate([bob_q])\n",
      "    alice_a = alice_response[0].generated_text\n",
      "    print(f\"[Alice][A] {alice_a}\")\n",
      "\n",
      "    alice_q = \"What is \" + alice_a + \" + \" + alice_a + \"?\"\n",
      "    print(f\"[Alice][Q] {alice_q}\")\n",
      "    time.sleep(0.5)\n",
      "```\n",
      "\n",
      "This script uses the IBM Generative AI Python SDK to perform a question-answering conversation between Alice and Bob. Alice asks a question, Bob generates an answer, and then Alice generates a new question based on Bob's answer. This process repeats for a specified number of cycles.\n"
     ]
    }
   ],
   "source": [
    "#chat_history = [(query, result[\"answer\"])]\n",
    "query = \"ok, but I want you to write python script!\"\n",
    "result = chain({\"question\": query, \"chat_history\": chat_history})\n",
    "print(result['answer'])"
   ]
  },
  {
   "cell_type": "code",
   "execution_count": 357,
   "id": "9d8f39db-736e-47eb-99b2-ba42e4ffe2ee",
   "metadata": {},
   "outputs": [
    {
     "name": "stdout",
     "output_type": "stream",
     "text": [
      "The 5th argument in GenerateParams is the \"min_new_tokens\" parameter. It is set to \"None\" in the last output because it is an optional argument and its default value is not specified in the provided context.\n"
     ]
    }
   ],
   "source": [
    "chat_history.append((query, result[\"answer\"]))\n",
    "query = \"From your last output, what does mean the 5th argument in GenerateParams and why is it set just like it is?\"\n",
    "result = chain({\"question\": query, \"chat_history\": chat_history})\n",
    "print(result['answer'])"
   ]
  },
  {
   "cell_type": "code",
   "execution_count": 358,
   "id": "6df65e6d-707b-4bb1-84e8-f7232fe2ddb4",
   "metadata": {},
   "outputs": [
    {
     "name": "stdout",
     "output_type": "stream",
     "text": [
      "Yes, the 5th argument in GenerateParams is the \"temperature\" parameter. It is set to \"float | None\" which means it can accept a floating-point number or be set to None. The reason for this is to provide flexibility in specifying the temperature value for generating text. If a specific temperature value is desired, it can be set as a float. If no temperature value is specified, it can be set to None and the default value will be used.\n"
     ]
    }
   ],
   "source": [
    "chat_history.append((query, result[\"answer\"]))\n",
    "query = \"Isnt it temperature ?\"\n",
    "result = chain({\"question\": query, \"chat_history\": chat_history})\n",
    "print(result['answer'])"
   ]
  },
  {
   "cell_type": "code",
   "execution_count": 361,
   "id": "4e28cf93-a8ce-4b8f-bd5e-e3bbbda2a26e",
   "metadata": {},
   "outputs": [
    {
     "name": "stdout",
     "output_type": "stream",
     "text": [
      "The 5th argument in GenerateParams is \"min_new_tokens\". It is set to None by default. This argument specifies the minimum number of tokens that should be generated before considering any stop sequences. If stop sequences are given, they are ignored until the minimum number of tokens specified by this argument is generated.\n"
     ]
    }
   ],
   "source": [
    "chat_history.append((query, result[\"answer\"]))\n",
    "query = \"Provide only first sentence from your last message!\"\n",
    "result = chain({\"question\": query, \"chat_history\": chat_history})\n",
    "print(result['answer'])"
   ]
  },
  {
   "cell_type": "code",
   "execution_count": null,
   "id": "058cf1cd-43c7-4101-b406-74954617da4c",
   "metadata": {},
   "outputs": [],
   "source": []
  },
  {
   "cell_type": "code",
   "execution_count": null,
   "id": "83c8984b-75d0-4df1-95f3-4ed9d3477a1a",
   "metadata": {},
   "outputs": [],
   "source": []
  }
 ],
 "metadata": {
  "kernelspec": {
   "display_name": "Python (chatbot)",
   "language": "python",
   "name": "chatbot"
  },
  "language_info": {
   "codemirror_mode": {
    "name": "ipython",
    "version": 3
   },
   "file_extension": ".py",
   "mimetype": "text/x-python",
   "name": "python",
   "nbconvert_exporter": "python",
   "pygments_lexer": "ipython3",
   "version": "3.10.12"
  }
 },
 "nbformat": 4,
 "nbformat_minor": 5
}
