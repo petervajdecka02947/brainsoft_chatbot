{
 "cells": [
  {
   "cell_type": "code",
   "execution_count": 1,
   "metadata": {},
   "outputs": [],
   "source": [
    "#!pip install requests beautifulsoup4\n",
    "#!pip install pandas"
   ]
  },
  {
   "cell_type": "code",
   "execution_count": 2,
   "metadata": {},
   "outputs": [
    {
     "name": "stdout",
     "output_type": "stream",
     "text": [
      "All links have been saved to links.txt\n"
     ]
    }
   ],
   "source": [
    "import requests\n",
    "from urllib.parse import urljoin\n",
    "from bs4 import BeautifulSoup\n",
    "import pandas as pd\n",
    "\n",
    "# Replace 'your_url_here' with the URL you want to scrape\n",
    "url = 'https://github.com/IBM/ibm-generative-ai' #'https://ibm.github.io/ibm-generative-ai/'\n",
    "\n",
    "# Send a GET request to the URL\n",
    "response = requests.get(url)\n",
    "\n",
    "links = []\n",
    "\n",
    "# Check if the request was successful\n",
    "if response.status_code == 200:\n",
    "    # Parse the content of the response using BeautifulSoup\n",
    "    soup = BeautifulSoup(response.text, 'html.parser')\n",
    "\n",
    "    # Find all 'a' tags, as these contain the links\n",
    "    a_tags = soup.find_all('a')\n",
    "\n",
    "    # Extract the href attribute (the URL) from each tag\n",
    "    # Convert relative URLs to absolute URLs using urljoin\n",
    "    links = [urljoin(url, tag.get('href')) for tag in a_tags if tag.get('href') is not None]\n",
    "\n",
    "    unique_list = list(set(links))\n",
    "\n",
    "    print(f\"All links have been saved to links.txt\")\n",
    "else:\n",
    "    print(f'Failed to retrieve the web page. Status code: {response.status_code}')\n",
    "    \n",
    "\n",
    "# Convert the list to a DataFrame\n",
    "df = pd.DataFrame(unique_list, columns=['links'])\n",
    "\n",
    "# Save the DataFrame to a CSV file\n",
    "df.to_csv('./data/ibm_links_github.csv', index=False)"
   ]
  },
  {
   "cell_type": "code",
   "execution_count": 3,
   "metadata": {},
   "outputs": [
    {
     "data": {
      "text/plain": [
       "137"
      ]
     },
     "execution_count": 3,
     "metadata": {},
     "output_type": "execute_result"
    }
   ],
   "source": [
    "len(df)"
   ]
  },
  {
   "cell_type": "code",
   "execution_count": 4,
   "metadata": {},
   "outputs": [
    {
     "data": {
      "text/html": [
       "<div>\n",
       "<style scoped>\n",
       "    .dataframe tbody tr th:only-of-type {\n",
       "        vertical-align: middle;\n",
       "    }\n",
       "\n",
       "    .dataframe tbody tr th {\n",
       "        vertical-align: top;\n",
       "    }\n",
       "\n",
       "    .dataframe thead th {\n",
       "        text-align: right;\n",
       "    }\n",
       "</style>\n",
       "<table border=\"1\" class=\"dataframe\">\n",
       "  <thead>\n",
       "    <tr style=\"text-align: right;\">\n",
       "      <th></th>\n",
       "      <th>links</th>\n",
       "    </tr>\n",
       "  </thead>\n",
       "  <tbody>\n",
       "    <tr>\n",
       "      <th>0</th>\n",
       "      <td>https://github.com/IBM/ibm-generative-ai/commi...</td>\n",
       "    </tr>\n",
       "    <tr>\n",
       "      <th>1</th>\n",
       "      <td>https://github.com/moneill0</td>\n",
       "    </tr>\n",
       "    <tr>\n",
       "      <th>2</th>\n",
       "      <td>https://resources.github.com/devops/fundamenta...</td>\n",
       "    </tr>\n",
       "    <tr>\n",
       "      <th>3</th>\n",
       "      <td>https://docs.github.com/site-policy/privacy-po...</td>\n",
       "    </tr>\n",
       "    <tr>\n",
       "      <th>4</th>\n",
       "      <td>https://github.com/IBM/ibm-generative-ai/pull/194</td>\n",
       "    </tr>\n",
       "    <tr>\n",
       "      <th>...</th>\n",
       "      <td>...</td>\n",
       "    </tr>\n",
       "    <tr>\n",
       "      <th>132</th>\n",
       "      <td>https://github.com/133martie</td>\n",
       "    </tr>\n",
       "    <tr>\n",
       "      <th>133</th>\n",
       "      <td>https://github.com/IBM/ibm-generative-ai/commi...</td>\n",
       "    </tr>\n",
       "    <tr>\n",
       "      <th>134</th>\n",
       "      <td>https://github.com/IBM/ibm-generative-ai/blob/...</td>\n",
       "    </tr>\n",
       "    <tr>\n",
       "      <th>135</th>\n",
       "      <td>https://github.com/IBM/ibm-generative-ai/blob/...</td>\n",
       "    </tr>\n",
       "    <tr>\n",
       "      <th>136</th>\n",
       "      <td>https://github.com/team</td>\n",
       "    </tr>\n",
       "  </tbody>\n",
       "</table>\n",
       "<p>137 rows × 1 columns</p>\n",
       "</div>"
      ],
      "text/plain": [
       "                                                 links\n",
       "0    https://github.com/IBM/ibm-generative-ai/commi...\n",
       "1                          https://github.com/moneill0\n",
       "2    https://resources.github.com/devops/fundamenta...\n",
       "3    https://docs.github.com/site-policy/privacy-po...\n",
       "4    https://github.com/IBM/ibm-generative-ai/pull/194\n",
       "..                                                 ...\n",
       "132                       https://github.com/133martie\n",
       "133  https://github.com/IBM/ibm-generative-ai/commi...\n",
       "134  https://github.com/IBM/ibm-generative-ai/blob/...\n",
       "135  https://github.com/IBM/ibm-generative-ai/blob/...\n",
       "136                            https://github.com/team\n",
       "\n",
       "[137 rows x 1 columns]"
      ]
     },
     "execution_count": 4,
     "metadata": {},
     "output_type": "execute_result"
    }
   ],
   "source": [
    "df"
   ]
  },
  {
   "cell_type": "code",
   "execution_count": null,
   "metadata": {},
   "outputs": [],
   "source": []
  }
 ],
 "metadata": {
  "kernelspec": {
   "display_name": "Python (chatbot)",
   "language": "python",
   "name": "chatbot"
  },
  "language_info": {
   "codemirror_mode": {
    "name": "ipython",
    "version": 3
   },
   "file_extension": ".py",
   "mimetype": "text/x-python",
   "name": "python",
   "nbconvert_exporter": "python",
   "pygments_lexer": "ipython3",
   "version": "3.10.12"
  }
 },
 "nbformat": 4,
 "nbformat_minor": 4
}
